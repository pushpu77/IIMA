{
 "cells": [
  {
   "cell_type": "code",
   "execution_count": null,
   "id": "5fecdb9c",
   "metadata": {},
   "outputs": [],
   "source": [
    "# IMPORTANT POINTS TO REMEMBER WHILE RUNNING THE CODE\n",
    "# Update with the path to the folder containing the text files\n",
    "# Mention the Path to the output CSV file"
   ]
  },
  {
   "cell_type": "code",
   "execution_count": null,
   "id": "500d2ed3",
   "metadata": {},
   "outputs": [],
   "source": [
    "import numpy as np\n",
    "import pandas as pd"
   ]
  },
  {
   "cell_type": "markdown",
   "id": "406aa4c6",
   "metadata": {},
   "source": [
    "Parsing Company Name, Ticker Symbol, Participants and Answer"
   ]
  },
  {
   "cell_type": "code",
   "execution_count": null,
   "id": "8080333b",
   "metadata": {},
   "outputs": [],
   "source": [
    "# Function to extract text between given word to end\n",
    "import re\n",
    "\n",
    "def extract_text_end(text, start_word):\n",
    "    pattern = re.escape(start_word) + r'(.*)'\n",
    "    match = re.search(pattern, text, re.DOTALL)\n",
    "    if match:\n",
    "        return match.group(1).strip()\n",
    "    else:\n",
    "        return None"
   ]
  },
  {
   "cell_type": "code",
   "execution_count": null,
   "id": "93267af5",
   "metadata": {},
   "outputs": [],
   "source": [
    "# Function to extract text between given words\n",
    "import re\n",
    "\n",
    "def extract_text_between(text, start_word, end_word):\n",
    "    if not end_word:\n",
    "        pattern = re.escape(start_word) + r'(.*)'\n",
    "    else:\n",
    "        pattern = re.escape(start_word) + r'(.*?)' + re.escape(end_word)\n",
    "    match = re.search(pattern, text, re.DOTALL)\n",
    "    if match:\n",
    "        return match.group(1).strip()\n",
    "    else:\n",
    "        return None"
   ]
  },
  {
   "cell_type": "code",
   "execution_count": null,
   "id": "ea304b3d",
   "metadata": {},
   "outputs": [],
   "source": [
    "import os  # Import the os module for file operations\n",
    "import re  # Import the re module for regular expressions\n",
    "import csv  # Import the csv module for CSV file operations\n",
    "import textwrap  # Import the textwrap module for text formatting\n",
    "\n",
    "folder_path = '../SeekingAlpha/article'  # Update with the path to the folder containing the text files\n",
    "csv_file_path = 'parsed_data_all.csv'  # Path to the output CSV file\n",
    "\n",
    "# Initialize the CSV file and write the header row\n",
    "with open(csv_file_path, 'w', newline='') as file:\n",
    "    writer = csv.writer(file)\n",
    "    writer.writerow(['Company Name', 'Ticker Symbol', 'Year', 'Company Participants', 'Conference Participants',\n",
    "                     'Answer', 'Openings'])\n",
    "\n",
    "    # Iterate over the files in the folder\n",
    "    for file_name in os.listdir(folder_path):\n",
    "        if file_name.endswith('.txt'):  # Process only .txt files\n",
    "            file_path = os.path.join(folder_path, file_name)\n",
    "\n",
    "            # Read the text file\n",
    "            with open(file_path, 'r') as text_file:\n",
    "                text = text_file.read()\n",
    "\n",
    "            # Extract the company name and ticker symbol\n",
    "            company_match = re.search(r'(.+?) \\((.+?)\\)', text)\n",
    "            company_name = company_match.group(1) if company_match else ''\n",
    "            ticker_symbol = company_match.group(2) if company_match else ''\n",
    "\n",
    "            # Extract the quarter and year\n",
    "            pattern = \"Q\\d \\d\\d\\d\\d\"\n",
    "            year = re.findall(pattern, text)\n",
    "            year = ''.join(year)\n",
    "\n",
    "            # Extract the company participants\n",
    "            participants_match = re.search(r'(?:Company Participants|Executives)\\n(.+?)\\n(?:Conference Call Participants|Analysts)', text, re.DOTALL)\n",
    "            company_participants_text = participants_match.group(1) if participants_match else ''\n",
    "            company_participants = re.findall(r'(.+)', company_participants_text)\n",
    "\n",
    "            # Extract the conference call participants\n",
    "            participants_match = re.search(r'(?:Conference Call Participants|Analysts)\\n(.+?)\\nOperator', text, re.DOTALL)\n",
    "            conference_participants_text = participants_match.group(1) if participants_match else ''\n",
    "            conference_participants = re.findall(r'(.+)', conference_participants_text)\n",
    "\n",
    "            # Extract the operator text\n",
    "            operator_text = extract_text_end(text, 'Question-and-Answer')\n",
    "            \n",
    "            # Beautify the operator text\n",
    "            beautified_operator_text = textwrap.fill(operator_text, width=80)\n",
    "            \n",
    "            # Extract the company says text\n",
    "            company_says = extract_text_between(text, 'Operator', '')\n",
    "\n",
    "            # Write the extracted information to the CSV file\n",
    "            writer.writerow([company_name, ticker_symbol, year, ', '.join(company_participants),\n",
    "                             ', '.join(conference_participants), operator_text, company_says])\n",
    "\n",
    "print(\"CSV file generated successfully!\")\n"
   ]
  }
 ],
 "metadata": {
  "kernelspec": {
   "display_name": "Python 3 (ipykernel)",
   "language": "python",
   "name": "python3"
  },
  "language_info": {
   "codemirror_mode": {
    "name": "ipython",
    "version": 3
   },
   "file_extension": ".py",
   "mimetype": "text/x-python",
   "name": "python",
   "nbconvert_exporter": "python",
   "pygments_lexer": "ipython3",
   "version": "3.9.13"
  }
 },
 "nbformat": 4,
 "nbformat_minor": 5
}
