{
  "cells": [
    {
      "cell_type": "code",
      "execution_count": 2,
      "id": "f8676381",
      "metadata": {
        "id": "f8676381"
      },
      "outputs": [],
      "source": [
        "#importing lbraries\n",
        "import pandas as pd\n",
        "import os\n",
        "import re"
      ]
    },
    {
      "cell_type": "code",
      "source": [
        "# # Load the Drive helper and mount\n",
        "# from google.colab import drive\n",
        "# drive.mount('/content/drive')\n"
      ],
      "metadata": {
        "colab": {
          "base_uri": "https://localhost:8080/"
        },
        "id": "Hw3_IthJMMAj",
        "outputId": "262e2255-1273-41cd-9179-beed1d76235a"
      },
      "id": "Hw3_IthJMMAj",
      "execution_count": 1,
      "outputs": [
        {
          "output_type": "stream",
          "name": "stdout",
          "text": [
            "Mounted at /content/drive\n"
          ]
        }
      ]
    },
    {
      "cell_type": "code",
      "execution_count": null,
      "id": "6cb94d2c",
      "metadata": {
        "id": "6cb94d2c"
      },
      "outputs": [],
      "source": [
        "##IMPORTANT PART TO KEEP CARE OF WHILE RUNNING CODE\n",
        "# 1. Specify the input directory where original files are present\n",
        "# 2. Specify the output directory where parsed files are to be kept\n",
        "# 3. Code is written to parse Manangement Discussion under Item 7 in SEC Fillings but can be modified for any parsing\n",
        "# 4. Modification can be easily done by using extract_text_between() function\n",
        "# 5. View the log file to view for the files where no parsing happened"
      ]
    },
    {
      "cell_type": "code",
      "execution_count": 3,
      "id": "2920f899",
      "metadata": {
        "id": "2920f899"
      },
      "outputs": [],
      "source": [
        "import re  # Import the regular expression module\n",
        "\n",
        "def extract_text_between(text, start_word, end_word):\n",
        "    # Function to extract text between start_word and end_word in the provided text\n",
        "\n",
        "    if end_word is None:\n",
        "        # If end_word is not specified, extract text from start_word until the end of the text\n",
        "        pattern = re.escape(start_word) + r'(.*)'  # Create a regex pattern to match start_word followed by any characters\n",
        "    else:\n",
        "        # If end_word is specified, extract text between start_word and end_word\n",
        "        pattern = re.escape(start_word) + r'(.*?)' + re.escape(end_word)  # Create a regex pattern to match start_word, any characters, and end_word\n",
        "\n",
        "    # Find all matches of the pattern in the input text\n",
        "    matches = re.findall(pattern, text, re.DOTALL | re.IGNORECASE)  # Use re.findall to find all matches, ignoring case and matching newline characters\n",
        "\n",
        "    # Return the list of matches found\n",
        "    return matches\n"
      ]
    },
    {
      "cell_type": "code",
      "execution_count": 35,
      "id": "b4cfae0f",
      "metadata": {
        "colab": {
          "base_uri": "https://localhost:8080/"
        },
        "id": "b4cfae0f",
        "outputId": "fb133ffb-081a-4339-d77f-5f7ec39ae505"
      },
      "outputs": [
        {
          "output_type": "stream",
          "name": "stdout",
          "text": [
            "Text extraction and saving complete.\n"
          ]
        }
      ],
      "source": [
        "import os  # Import the os module for file operations\n",
        "import re  # Import the regular expression module\n",
        "\n",
        "# Directory paths\n",
        "input_directory = '/content/drive/MyDrive/Colab Notebooks/ksen test'  # Specify the input directory path where the text files are located\n",
        "output_directory = '/content/drive/MyDrive/Colab Notebooks/result'  # Specify the output directory path where the extracted text files will be saved\n",
        "log = []  # Initialize an empty list to store the filenames for which Item 7 or Item 7A is not found\n",
        "\n",
        "# Regular expression patterns\n",
        "accession_number_regex = r'(?i)accession number:(.*?)\\n'  # Define a regex pattern to match the accession number\n",
        "\n",
        "# Create the output directory if it doesn't exist\n",
        "if not os.path.exists(output_directory):\n",
        "    os.makedirs(output_directory)\n",
        "\n",
        "# Iterate over each file in the input directory\n",
        "for filename in os.listdir(input_directory):\n",
        "    input_file_path = os.path.join(input_directory, filename)  # Create the full path of the input file\n",
        "\n",
        "    # Process only the text files\n",
        "    if filename.endswith('.txt'):\n",
        "        with open(input_file_path, 'r') as file:\n",
        "            text = file.read()  # Read the contents of the text file\n",
        "            text = ' '.join(text.strip().lower().split())\n",
        "            matches = extract_text_between(text, 'item 7', 'item 7a')\n",
        "            if not matches:\n",
        "                matches = extract_text_between(text, 'item 7. management', 'item 7a. quantitative')\n",
        "            if not matches:\n",
        "                matches = extract_text_between(text, 'item 7', 'item 9')\n",
        "            if not matches:\n",
        "                matches = extract_text_between(text, 'management', 'quantitative')\n",
        "            if not matches:\n",
        "                matches = extract_text_between(text, 'management discussion','')\n",
        "            # Combine and calculate the total length of the extracted text\n",
        "            matches = ' '.join(matches)\n",
        "            #accession_number_regex = r'(?i)accession number:(.*?)\\n'\n",
        "            #accession_number_matches = re.findall(accession_number_regex, text)  # Find all matches of the accession number pattern in the text\n",
        "            # Define the pattern for the accession number\n",
        "            pattern = r'accession number:\\s+(\\d{10}-\\d{2}-\\d{6})'\n",
        "\n",
        "            # Find the accession number using regular expression matching\n",
        "            match = re.search(pattern, text)\n",
        "\n",
        "            if match:\n",
        "                accession_number_matches = match.group(1)\n",
        "\n",
        "            if matches and accession_number_matches:\n",
        "                accession_number = accession_number_matches  # Get the first match of the accession number\n",
        "                output_file_path = os.path.join(output_directory, f'{accession_number}_Item7.txt')  # Create the full path of the output file\n",
        "\n",
        "                with open(output_file_path, 'w') as output_file:\n",
        "                    output_file.write(f'Accession Number: {accession_number}\\n\\n')\n",
        "                    # for match in matches:\n",
        "                    output_file.write(matches)  # Write the extracted text to the output file\n",
        "\n",
        "            else:\n",
        "                log.append(filename)  # Add the filename to the log list if Item 7 or Item 7A is not found\n",
        "\n",
        "print(\"Text extraction and saving complete.\")\n"
      ]
    },
    {
      "cell_type": "code",
      "source": [
        "log"
      ],
      "metadata": {
        "colab": {
          "base_uri": "https://localhost:8080/"
        },
        "id": "qbbSuNPONhyU",
        "outputId": "caa98518-f231-47a2-bf3e-2aae9f54fc3b"
      },
      "id": "qbbSuNPONhyU",
      "execution_count": 36,
      "outputs": [
        {
          "output_type": "execute_result",
          "data": {
            "text/plain": [
              "['0001193125-11-324934.txt',\n",
              " '0001188112-12-000048.txt',\n",
              " '0001193125-12-191657.txt']"
            ]
          },
          "metadata": {},
          "execution_count": 36
        }
      ]
    }
  ],
  "metadata": {
    "colab": {
      "provenance": []
    },
    "kernelspec": {
      "display_name": "Python 3 (ipykernel)",
      "language": "python",
      "name": "python3"
    },
    "language_info": {
      "codemirror_mode": {
        "name": "ipython",
        "version": 3
      },
      "file_extension": ".py",
      "mimetype": "text/x-python",
      "name": "python",
      "nbconvert_exporter": "python",
      "pygments_lexer": "ipython3",
      "version": "3.9.13"
    }
  },
  "nbformat": 4,
  "nbformat_minor": 5
}