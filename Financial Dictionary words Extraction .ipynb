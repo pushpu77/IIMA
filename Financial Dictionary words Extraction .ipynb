{
 "cells": [
  {
   "cell_type": "code",
   "execution_count": null,
   "id": "0e35c51e",
   "metadata": {},
   "outputs": [],
   "source": [
    "#IMPORTANT POINTS TO KEEP IN WHILE RUNNING THIS CODE\n",
    "# 1. Specify the PDF file name\n",
    "# 2. Modify the page numbers of the pdf\n",
    "# 3. Specify the path where you want to save the dictionary"
   ]
  },
  {
   "cell_type": "code",
   "execution_count": null,
   "id": "bfa51918",
   "metadata": {},
   "outputs": [],
   "source": [
    "# !pip3 install PyPDF2\n",
    "# !pip3 install textract"
   ]
  },
  {
   "cell_type": "code",
   "execution_count": null,
   "id": "1c0c64f0",
   "metadata": {},
   "outputs": [],
   "source": [
    "import pandas as pd\n",
    "import numpy as np\n",
    "import PyPDF2\n",
    "import textract\n",
    "import re"
   ]
  },
  {
   "cell_type": "code",
   "execution_count": null,
   "id": "daa46dc2",
   "metadata": {},
   "outputs": [],
   "source": [
    "import os\n",
    "import pandas as pd\n",
    "import numpy as np\n",
    "import gensim\n",
    "from gensim.utils import simple_preprocess\n",
    "from gensim import corpora, models\n",
    "from gensim.parsing.preprocessing import STOPWORDS\n",
    "from nltk.stem import WordNetLemmatizer, SnowballStemmer\n",
    "from nltk.stem.porter import *\n",
    "\n",
    "import datetime\n",
    "import time\n",
    "from sklearn.decomposition import PCA\n",
    "from sklearn.manifold import TSNE\n",
    "import matplotlib.pyplot as plt\n",
    "import seaborn as sns\n",
    "%matplotlib inline\n",
    "import matplotlib.pyplot as plt\n",
    "from mpl_toolkits.mplot3d import Axes3D\n",
    "\n",
    "import nltk"
   ]
  },
  {
   "cell_type": "code",
   "execution_count": null,
   "id": "8c4d13d8",
   "metadata": {},
   "outputs": [],
   "source": [
    "import PyPDF2  # Import the PyPDF2 library for PDF operations\n",
    "\n",
    "filename = 'FinancialDictionary2.pdf'  # Specify the PDF file name\n",
    "\n",
    "pdfFileObj = open(filename, 'rb')  # Open the PDF file in read-binary mode\n",
    "pdfReader = PyPDF2.PdfReader(pdfFileObj)  # Create a PdfReader object to read the PDF\n",
    "num_pages = len(pdfReader.pages)  # Get the total number of pages in the PDF\n",
    "\n",
    "start_page = 1  # Specify the starting page\n",
    "end_page = 5    # Specify the ending page\n",
    "\n",
    "count = start_page - 1  # Initialize the count variable to the starting page index\n",
    "text = \"\"  # Initialize an empty string to store the extracted text\n",
    "\n",
    "# Iterate over the desired pages and extract text from each page\n",
    "while count < num_pages and count < end_page:\n",
    "    pageObj = pdfReader.pages[count]  # Get the page object for the current page\n",
    "    count += 1  # Increment the count variable\n",
    "    text += pageObj.extract_text()  # Extract text from the page and append it to the 'text' string\n",
    "\n",
    "# Check if text is empty after processing desired pages\n",
    "if text != \"\":\n",
    "    text = text  # If text is not empty, assign it to the 'text' variable\n",
    "else:\n",
    "    # If text is empty, extract text using textract library from the specified URL\n",
    "    text = textract.process('http://bit.ly/epo_keyword_extraction_document', method='tesseract', language='eng')\n",
    "\n",
    "text = text.encode('ascii', 'ignore').lower()  # Convert the text to lowercase and remove non-ASCII characters"
   ]
  },
  {
   "cell_type": "code",
   "execution_count": null,
   "id": "3bef65fd",
   "metadata": {},
   "outputs": [],
   "source": [
    "uniqueWords = [] \n",
    "for i in keywords:\n",
    "      if not i in uniqueWords:\n",
    "            uniqueWords.append(i);\n",
    "                \n",
    "uniqueWords\n",
    "dictionary=uniqueWords"
   ]
  },
  {
   "cell_type": "code",
   "execution_count": null,
   "id": "d5ef3aeb",
   "metadata": {},
   "outputs": [],
   "source": [
    "#specify the path where you want to save the dictionary\n",
    "file_path = 'dictionaryy.txt'\n",
    "\n",
    "# Open the file in write mode\n",
    "with open(file_path, 'w') as file:\n",
    "    # Write each word to a new line in the file\n",
    "    for word in dictionary:\n",
    "        file.write(word + '\\n')"
   ]
  }
 ],
 "metadata": {
  "kernelspec": {
   "display_name": "Python 3 (ipykernel)",
   "language": "python",
   "name": "python3"
  },
  "language_info": {
   "codemirror_mode": {
    "name": "ipython",
    "version": 3
   },
   "file_extension": ".py",
   "mimetype": "text/x-python",
   "name": "python",
   "nbconvert_exporter": "python",
   "pygments_lexer": "ipython3",
   "version": "3.9.13"
  }
 },
 "nbformat": 4,
 "nbformat_minor": 5
}
