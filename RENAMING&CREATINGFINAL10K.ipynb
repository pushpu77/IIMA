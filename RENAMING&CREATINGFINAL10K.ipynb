{
 "cells": [
  {
   "cell_type": "code",
   "execution_count": null,
   "id": "87227e0d",
   "metadata": {},
   "outputs": [],
   "source": [
    "#RENAMING THE FILES IN THE EXTRAS 10K\n",
    "#SPECIFY THE PATH WHEREVER REQUIRED"
   ]
  },
  {
   "cell_type": "code",
   "execution_count": 3,
   "id": "139ddccc",
   "metadata": {},
   "outputs": [],
   "source": [
    "import os\n",
    "\n",
    "folder_path = \"10K\"  # Replace with the actual folder path\n",
    "files = os.listdir(folder_path)\n",
    "for i, filename in enumerate(files, start=56690):\n",
    "    old_path = os.path.join(folder_path, filename)\n",
    "    new_filename = \"file\" + str(i)\n",
    "    new_path = os.path.join(folder_path, new_filename)\n",
    "    os.rename(old_path, new_path)\n"
   ]
  },
  {
   "cell_type": "code",
   "execution_count": null,
   "id": "0dd781fc",
   "metadata": {},
   "outputs": [],
   "source": [
    "#MOVING ALL THE EXTRA 10K'S TO ALL 10K'S FOLDER"
   ]
  },
  {
   "cell_type": "code",
   "execution_count": 7,
   "id": "323e18fb",
   "metadata": {},
   "outputs": [],
   "source": [
    "import os\n",
    "import shutil\n",
    "\n",
    "source_folder = \"10K\"  # Replace with the actual source folder path\n",
    "destination_folder = \"ksen\"  # Replace with the actual destination folder path\n",
    "\n",
    "# Create the destination folder if it doesn't exist\n",
    "if not os.path.exists(destination_folder):\n",
    "    os.makedirs(destination_folder)\n",
    "\n",
    "# Get the list of files in the source folder\n",
    "files = os.listdir(source_folder)\n",
    "\n",
    "# Move each file to the destination folder\n",
    "for file_name in files:\n",
    "    source_path = os.path.join(source_folder, file_name)\n",
    "    destination_path = os.path.join(destination_folder, file_name)\n",
    "    shutil.move(source_path, destination_path)\n"
   ]
  },
  {
   "cell_type": "code",
   "execution_count": 15,
   "id": "44e7ad02",
   "metadata": {},
   "outputs": [],
   "source": [
    "#Renaming the file name as accessionNumber.txt"
   ]
  },
  {
   "cell_type": "code",
   "execution_count": 24,
   "id": "65420a83",
   "metadata": {},
   "outputs": [],
   "source": [
    "import os\n",
    "import re\n",
    "\n",
    "folder_path = \"ksen\"  # Replace with the actual folder path\n",
    "log=[]\n",
    "# Iterate over the files in the folder\n",
    "for filename in os.listdir(folder_path):\n",
    "    file_path = os.path.join(folder_path, filename)\n",
    "\n",
    "    # Check if the file is a text file\n",
    "   \n",
    "        # Open the file and read its contents\n",
    "    with open(file_path, 'r') as file:\n",
    "        file_content = file.read()\n",
    "        \n",
    "        # Extract the accession number using regular expressions\n",
    "    accession_number = re.search(r'\\d{10}-\\d{2}-\\d{6}', file_content)\n",
    "        \n",
    "    if accession_number:\n",
    "        new_filename = accession_number.group() + '.txt'\n",
    "        new_file_path = os.path.join(folder_path, new_filename)\n",
    "    else:\n",
    "        log.append(filename)\n",
    "            \n",
    "            # Rename the file\n",
    "    os.rename(file_path, new_file_path)\n"
   ]
  },
  {
   "cell_type": "code",
   "execution_count": null,
   "id": "a110e93b",
   "metadata": {},
   "outputs": [],
   "source": [
    "print(log)"
   ]
  }
 ],
 "metadata": {
  "kernelspec": {
   "display_name": "Python 3 (ipykernel)",
   "language": "python",
   "name": "python3"
  },
  "language_info": {
   "codemirror_mode": {
    "name": "ipython",
    "version": 3
   },
   "file_extension": ".py",
   "mimetype": "text/x-python",
   "name": "python",
   "nbconvert_exporter": "python",
   "pygments_lexer": "ipython3",
   "version": "3.9.13"
  }
 },
 "nbformat": 4,
 "nbformat_minor": 5
}
